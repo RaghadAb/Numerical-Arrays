{
 "cells": [
  {
   "cell_type": "markdown",
   "metadata": {
    "deletable": false,
    "editable": false,
    "nbgrader": {
     "cell_type": "markdown",
     "checksum": "d0cd9cfe5adeb77e45bd98edb2ad7859",
     "grade": false,
     "grade_id": "cell-513963dffd022dec",
     "locked": true,
     "schema_version": 3,
     "solution": false
    }
   },
   "source": [
    "# Data Fundamentals (H)\n",
    "John H. Williamson -- Session 2019/2020\n",
    "\n",
    "----\n",
    "\n",
    "Read the submission instructions **carefully** before submitting. Note that marks shown are **provisional** and could change after grading.\n",
    "\n",
    "**This submission must be your own work; you will have to make a Declaration of Originality on submission.**\n",
    "\n"
   ]
  },
  {
   "cell_type": "markdown",
   "metadata": {},
   "source": [
    "---"
   ]
  },
  {
   "cell_type": "markdown",
   "metadata": {
    "deletable": false,
    "editable": false,
    "nbgrader": {
     "cell_type": "markdown",
     "checksum": "af620c7fd0e7200d801d198da913f1ae",
     "grade": false,
     "grade_id": "cell-96ff555b80754366",
     "locked": true,
     "schema_version": 3,
     "solution": false
    }
   },
   "source": [
    "## Lab 2: **Assessed**\n",
    "# Numerical arrays and vectorized computation"
   ]
  },
  {
   "cell_type": "markdown",
   "metadata": {
    "deletable": false,
    "editable": false,
    "nbgrader": {
     "cell_type": "markdown",
     "checksum": "5977a46bfe29a6d33c340800543f0738",
     "grade": false,
     "grade_id": "cell-01c84fe8d49767fe",
     "locked": true,
     "schema_version": 3,
     "solution": false
    }
   },
   "source": [
    "\n",
    "### Notes\n",
    "It is recommended to keep the lecture notes open while doing this lab exercise.\n",
    "\n",
    "**This exercise is assessed**. Make sure you upload your solution by the deadline. See the notes at the bottom of this notebook for submission guidance.\n",
    "\n",
    "\n",
    "### References\n",
    "If you are stuck, the following resources are very helpful:\n",
    "\n",
    "\n",
    "* [NumPy cheatsheet](https://github.com/juliangaal/python-cheat-sheet/blob/master/NumPy/NumPy.md)\n",
    "* [NumPy API reference](https://docs.scipy.org/doc/numpy-1.13.0/reference/)\n",
    "* [NumPy user guide](https://docs.scipy.org/doc/numpy-1.13.0/user/basics.html)\n",
    "\n",
    "\n",
    "* [Python for Data Science cheatsheet](https://s3.amazonaws.com/assets.datacamp.com/blog_assets/PythonForDataScience.pdf)\n",
    "* [Another NumPy Cheatsheet](https://s3.amazonaws.com/assets.datacamp.com/blog_assets/Numpy_Python_Cheat_Sheet.pdf)\n"
   ]
  },
  {
   "cell_type": "markdown",
   "metadata": {
    "deletable": false,
    "editable": false,
    "nbgrader": {
     "cell_type": "markdown",
     "checksum": "67b56f67f1e6f0122d5038d388b85c87",
     "grade": false,
     "grade_id": "cell-8ede47f17b8fd075",
     "locked": true,
     "schema_version": 3,
     "solution": false
    }
   },
   "source": [
    "## Purpose of this lab\n",
    "This lab should help you:\n",
    "* understand floating point representations\n",
    "* understand how roundoff errors occur and how you can control them\n",
    "* work with higher rank tensors, selecting the attributes you want to work with\n",
    "* understand how to do simple operations in a vectorised manner\n",
    "\n",
    "Note: this lab requires solving puzzles which require that you understand the course material. Very little code is required to get the correct solutions.\n"
   ]
  },
  {
   "cell_type": "code",
   "execution_count": 366,
   "metadata": {
    "collapsed": true
   },
   "outputs": [],
   "source": [
    "## custom utils\n",
    "## uncomment and run the line below if you get an error about jhwutils\n",
    "## then RESTART THE KERNEL (Kernel/Restart)\n",
    "\n",
    "#!pip --no-cache install --user -U https://github.com/johnhw/jhwutils/zipball/master   \n",
    "\n",
    "# comment it again before submitting!"
   ]
  },
  {
   "cell_type": "code",
   "execution_count": 5,
   "metadata": {
    "deletable": false,
    "editable": false,
    "nbgrader": {
     "cell_type": "code",
     "checksum": "e7104aa3f11f458e2c923ebc78097e32",
     "grade": false,
     "grade_id": "cell-7d8b7c3700ac1bc7",
     "locked": true,
     "schema_version": 3,
     "solution": false
    }
   },
   "outputs": [
    {
     "name": "stdout",
     "output_type": "stream",
     "text": [
      "Everything imported OK\n"
     ]
    }
   ],
   "source": [
    "# Standard imports\n",
    "# Make sure you run this cell!\n",
    "# NumPy\n",
    "import numpy as np  \n",
    "np.set_printoptions(suppress=True)\n",
    "\n",
    "# Set up Matplotlib\n",
    "import matplotlib as mpl   \n",
    "import matplotlib.pyplot as plt\n",
    "%matplotlib inline\n",
    "plt.rc('figure', figsize=(8.0, 4.0), dpi=140)\n",
    "\n",
    "from jhwutils.checkarr import array_hash, check_hash\n",
    "from jhwutils.float_inspector import print_float_html\n",
    "import jhwutils.image_audio as ia\n",
    "import jhwutils.tick as tick\n",
    "\n",
    "import lzma, base64\n",
    "exec(lzma.decompress(base64.b64decode(b'/Td6WFoAAATm1rRGAgAhARYAAAB0L+Wj4AHWARFdAAUaCmNWCuiTCXe8bHWT/WeqghymfBRQKyklXJ3lgDWHk34myezvldkgSu3Adiur0vA+OkDfUwiMWzEclOxunCssCtgpVM94TwtylLQC9aX0APwnuNk2VBPkVpf3otXT04I1pElMWNdSgqgJ9/PqMJhdhfDr3Wrs/a/pRN/AOd+rZawioudIbGRTYZgWPHcqPLImmS2EO0Hbkc7kRAS3Nr9JkELrRMkejvVMnGgu+b1m4uXv6trDURkPrMO7HCVcO5FcMx1FURc+hNcKRmmBp1mCuW4iop6qRAMNnAur/spBmfuw+lbJkxOoIXMwrRuEXa6bnJz53WQnloXvzbWW5hqEtbPpSHPLPccxaiU5yPAKYAAAAADqkqJjsFbfFwABrQLXAwAA9LrSpbHEZ/sCAAAAAARZWg==')))\n",
    "\n",
    "print(\"Everything imported OK\")"
   ]
  },
  {
   "cell_type": "markdown",
   "metadata": {
    "deletable": false,
    "editable": false,
    "nbgrader": {
     "cell_type": "markdown",
     "checksum": "ca8ab91e44dc877b21a57abbbadab1cc",
     "grade": false,
     "grade_id": "cell-cd90398823b51d3c",
     "locked": true,
     "schema_version": 3,
     "solution": false
    }
   },
   "source": [
    "# 1. Financial misconduct"
   ]
  },
  {
   "cell_type": "markdown",
   "metadata": {
    "deletable": false,
    "editable": false,
    "nbgrader": {
     "cell_type": "markdown",
     "checksum": "1670f2db84e716450a3cac94445db3b9",
     "grade": false,
     "grade_id": "cell-cd1b63eb91f1612d",
     "locked": true,
     "schema_version": 3,
     "solution": false
    }
   },
   "source": [
    "You have been asked to verify the computation of some financial predictive models. These models produces a sequence of updates to the value of a product. The product updates are mainly of two types:\n",
    "* **large deposits**, representing inflows of new cash, often up into the billions of pounds\n",
    "* **small returns** from high-frequency trading activity\n",
    "\n",
    "The simulator produces **two** model outputs from two distinct models `a` and `b` at each time step, which provide very similar estimates of the value of these updates.\n",
    "\n",
    "You are asked to write code that will produce:\n",
    "\n",
    "* an estimate of the total value of a product over some series\n",
    "* the total difference between two different product models, both of which are very similar.\n",
    "\n",
    "You are given the existing code below, which is supposed to compute and return:\n",
    "\n",
    "* the sum of the `a` updates (i.e. total value of `a`)\n",
    "* the accumulated difference between the `a` and `b` products.\n",
    "\n",
    "However, the result is very inaccurate when tested. Modify this code to be more accurate. Do NOT use NumPy, or *any* other external module to improve your calculation. Use floating point, regardless of the fact that floating point is not appropriate for financial data.\n",
    "\n",
    "The errors should be less than 0.5 for the `a` sum and less than 1e-10 for the difference in predictions."
   ]
  },
  {
   "cell_type": "code",
   "execution_count": 6,
   "metadata": {
    "deletable": false,
    "editable": false,
    "nbgrader": {
     "cell_type": "code",
     "checksum": "ff5608433d2c972fba67f97a4d5b83d3",
     "grade": false,
     "grade_id": "cell-50aa86e1b77a72bd",
     "locked": true,
     "schema_version": 3,
     "solution": false
    }
   },
   "outputs": [],
   "source": [
    "class Simulator: # we use a class just to hold variables between calls\n",
    "    def __init__(self):\n",
    "        # initialise accumulators\n",
    "        self.a_sum = 0\n",
    "        self.b_sum = 0\n",
    "        \n",
    "    def update(self, a, b):\n",
    "        # increment\n",
    "        self.a_sum += a\n",
    "        self.b_sum += b\n",
    "        \n",
    "    def results(self):\n",
    "        # return a  pair of results\n",
    "        # (you do not need to change this)\n",
    "        return self.a_sum, self.a_sum - self.b_sum\n",
    "        "
   ]
  },
  {
   "cell_type": "code",
   "execution_count": 7,
   "metadata": {
    "deletable": false,
    "editable": false,
    "nbgrader": {
     "cell_type": "code",
     "checksum": "58c881d1e653f83c5e84e2c129cd7456",
     "grade": false,
     "grade_id": "cell-35c606e253a47cef",
     "locked": true,
     "schema_version": 3,
     "solution": false
    }
   },
   "outputs": [
    {
     "name": "stdout",
     "output_type": "stream",
     "text": [
      "Error in a_sum is 13.7734375 and 4.101232676410264e-08 in d_sum\n"
     ]
    }
   ],
   "source": [
    "a_error, d_error = simulate(Simulator())\n",
    "# bad result!\n",
    "print(f\"Error in a_sum is {a_error} and {d_error} in d_sum\")"
   ]
  },
  {
   "cell_type": "markdown",
   "metadata": {
    "deletable": false,
    "editable": false,
    "nbgrader": {
     "cell_type": "markdown",
     "checksum": "0721eda0ab3ed291583c41716e7ba37a",
     "grade": false,
     "grade_id": "cell-0f6db2fc517f160b",
     "locked": true,
     "schema_version": 3,
     "solution": false
    }
   },
   "source": [
    "Copy and paste the `Simulator` into the cell below and modify it:"
   ]
  },
  {
   "cell_type": "code",
   "execution_count": null,
   "metadata": {},
   "outputs": [],
   "source": []
  },
  {
   "cell_type": "code",
   "execution_count": 12,
   "metadata": {
    "deletable": false,
    "nbgrader": {
     "cell_type": "code",
     "checksum": "827e00ef7b48ad6a8209bc14dae5de46",
     "grade": false,
     "grade_id": "cell-25d29ac908333f15",
     "locked": false,
     "schema_version": 3,
     "solution": true
    }
   },
   "outputs": [],
   "source": [
    "# YOUR CODE HERE\n",
    "from decimal import Decimal\n",
    "class Simulator: # we use a class just to hold variables between calls\n",
    "    def __init__(self):\n",
    "        # initialise accumulators\n",
    "        self.a_sum = 0\n",
    "        self.b_sum = 0\n",
    "        \n",
    "    def update(self, a, b):\n",
    "        # increment\n",
    "        self.a_sum += Decimal(a)\n",
    "        self.b_sum += Decimal(b)\n",
    "        \n",
    "    def results(self):\n",
    "        # return a  pair of results\n",
    "        # (you do not need to change this)\n",
    "        return float(self.a_sum), float(self.a_sum - self.b_sum)"
   ]
  },
  {
   "cell_type": "code",
   "execution_count": 13,
   "metadata": {
    "deletable": false,
    "editable": false,
    "nbgrader": {
     "cell_type": "code",
     "checksum": "f1e98bef3ef86adad3e5868986316e6e",
     "grade": false,
     "grade_id": "cell-3cb0d8f80031eb15",
     "locked": true,
     "schema_version": 3,
     "solution": false
    }
   },
   "outputs": [
    {
     "name": "stdout",
     "output_type": "stream",
     "text": [
      "Error in a_sum is 0.0 and 0.0 in d_sum\n"
     ]
    }
   ],
   "source": [
    "    \n",
    "a_error, d_error = simulate(Simulator())\n",
    "print(f\"Error in a_sum is {a_error} and {d_error} in d_sum\")"
   ]
  },
  {
   "cell_type": "code",
   "execution_count": 14,
   "metadata": {
    "deletable": false,
    "editable": false,
    "nbgrader": {
     "cell_type": "code",
     "checksum": "a1724933251f1964065800aa35105040",
     "grade": true,
     "grade_id": "cell-2b4d36e72bbc2189",
     "locked": true,
     "points": 2,
     "schema_version": 3,
     "solution": false
    }
   },
   "outputs": [
    {
     "data": {
      "text/html": [
       "\n",
       "        <div class=\"alert alert-box alert-success\">\n",
       "        <h1> <!--{id:\"CORRECTMARK\", marks:\"2\"}--> \n",
       "         ✓ [2 marks] \n",
       "         </h1> </div>"
      ],
      "text/plain": [
       "<IPython.core.display.HTML object>"
      ]
     },
     "metadata": {},
     "output_type": "display_data"
    }
   ],
   "source": [
    "with tick.marks(2):\n",
    "    assert(a_error<2.0)"
   ]
  },
  {
   "cell_type": "code",
   "execution_count": 15,
   "metadata": {
    "deletable": false,
    "editable": false,
    "nbgrader": {
     "cell_type": "code",
     "checksum": "4eab204e6294cd475378f325751842be",
     "grade": true,
     "grade_id": "cell-1fd742ccc66cbe18",
     "locked": true,
     "points": 2,
     "schema_version": 3,
     "solution": false
    }
   },
   "outputs": [
    {
     "data": {
      "text/html": [
       "\n",
       "        <div class=\"alert alert-box alert-success\">\n",
       "        <h1> <!--{id:\"CORRECTMARK\", marks:\"2\"}--> \n",
       "         ✓ [2 marks] \n",
       "         </h1> </div>"
      ],
      "text/plain": [
       "<IPython.core.display.HTML object>"
      ]
     },
     "metadata": {},
     "output_type": "display_data"
    }
   ],
   "source": [
    "with tick.marks(2):\n",
    "    assert(a_error<0.5)"
   ]
  },
  {
   "cell_type": "code",
   "execution_count": 16,
   "metadata": {
    "deletable": false,
    "editable": false,
    "nbgrader": {
     "cell_type": "code",
     "checksum": "13bd842f42436ba8c313ff9416d1e03a",
     "grade": true,
     "grade_id": "cell-d9f1430e6e4477b5",
     "locked": true,
     "points": 2,
     "schema_version": 3,
     "solution": false
    }
   },
   "outputs": [
    {
     "data": {
      "text/html": [
       "\n",
       "        <div class=\"alert alert-box alert-success\">\n",
       "        <h1> <!--{id:\"CORRECTMARK\", marks:\"2\"}--> \n",
       "         ✓ [2 marks] \n",
       "         </h1> </div>"
      ],
      "text/plain": [
       "<IPython.core.display.HTML object>"
      ]
     },
     "metadata": {},
     "output_type": "display_data"
    }
   ],
   "source": [
    "with tick.marks(2):\n",
    "    assert(d_error<1e-10)"
   ]
  },
  {
   "cell_type": "code",
   "execution_count": 17,
   "metadata": {
    "deletable": false,
    "editable": false,
    "nbgrader": {
     "cell_type": "code",
     "checksum": "c05c78df2a567e869e941027c4acafd4",
     "grade": true,
     "grade_id": "cell-333705048f84aa8e",
     "locked": true,
     "points": 2,
     "schema_version": 3,
     "solution": false
    }
   },
   "outputs": [
    {
     "data": {
      "text/html": [
       "\n",
       "        <div class=\"alert alert-box alert-success\">\n",
       "        <h1> <!--{id:\"CORRECTMARK\", marks:\"2\"}--> \n",
       "         ✓ [2 marks] \n",
       "         </h1> </div>"
      ],
      "text/plain": [
       "<IPython.core.display.HTML object>"
      ]
     },
     "metadata": {},
     "output_type": "display_data"
    }
   ],
   "source": [
    "with tick.marks(2):\n",
    "    assert(d_error<1e-12)"
   ]
  },
  {
   "cell_type": "markdown",
   "metadata": {
    "deletable": false,
    "editable": false,
    "nbgrader": {
     "cell_type": "markdown",
     "checksum": "77a9387745556b0133d2cbf3b3916f96",
     "grade": false,
     "grade_id": "cell-e88d85163a2f6996",
     "locked": true,
     "schema_version": 3,
     "solution": false
    }
   },
   "source": [
    "# 2. Debugging the dump [1 hour]\n",
    "\n",
    "Scenario: In your first day in a new post in the IT team in a finance company, you are provided with the a portion of a memory dump of a process that was running an important simulation of foreign exchange rates in the late 1990s. Unfortunately, the system crashed half way through and the raw memory dump is all that is left. You need to extract the relevant data so that the simulation can be restarted. \n",
    "\n",
    "You know the data is stored as a numerical array, so it has some known structure. You don't know the dtype or shape of the array, or where it starts or ends in the memory dump, however.\n",
    "\n",
    "**This is a puzzle which will require careful thinking, but very little code to be written**"
   ]
  },
  {
   "cell_type": "code",
   "execution_count": 18,
   "metadata": {
    "deletable": false,
    "editable": false,
    "nbgrader": {
     "cell_type": "code",
     "checksum": "d0d800f709a783f9f2a85f576ec09fd3",
     "grade": false,
     "grade_id": "cell-a8a2afe4520c1692",
     "locked": true,
     "schema_version": 3,
     "solution": false
    }
   },
   "outputs": [],
   "source": [
    "# read the data in\n",
    "with open(\"data/crash_bytes.dump\", \"rb\")  as f:\n",
    "    crash_dump = f.read()"
   ]
  },
  {
   "cell_type": "code",
   "execution_count": 19,
   "metadata": {
    "deletable": false,
    "editable": false,
    "nbgrader": {
     "cell_type": "code",
     "checksum": "7f588fd53ef0f02686967a8f12892f7b",
     "grade": false,
     "grade_id": "cell-509c272084457406",
     "locked": true,
     "schema_version": 3,
     "solution": false
    }
   },
   "outputs": [
    {
     "name": "stdout",
     "output_type": "stream",
     "text": [
      "15 9B 75 2E 08 F9 51 9E 09 D5 DB D6 1E 5C D0 83 EF A9 3C 00 C0 F9 44 00 00 C0 7F B7 D2 DF 3F BD 66 12 3F A6 C5 F9 44 00 00 C0 7F B5 EB EA 3F 40 7C 0B 3F 4B CB F9 44 00 00 C0 7F 84 12 EE 3F 8B A3 09 3F F1 D0 F9 44 00 00 C0 7F 03 6E DA 3F 26 04 16 3F 97 D6 F9 44 00 00 C0 7F A3 5A D7 3F A3 28 18 3F 3C DC F9 44 00 00 C0 7F 82 E3 D2 3F 6B 61 1B 3F E2 E1 F9 44 00 00 C0 7F 8E D1 CC 3F 49 FC 1F 3F 88 E7 F9 44 00 00 C0 7F 3C 3E CF 3F 24 1D 1E 3F 2D ED F9 44 00 00 C0 7F 1B 98 CB 3F 99 F2 20 3F D3 F2 F9 44 00 00 C0 7F 7B 3D D1 3F D0 9A 1C 3F 78 F8 F9 44 00 00 C0 7F A8 A4 C5 3F 31 CB 25 3F 1E FE F9 44 00 00 C0 7F 87 11 BD 3F 19 50 2D 3F C4 03 FA 44 00 00 C0 7F 66 7C C6 3F FC 16 25 3F 69 09 FA 44 00 00 C0 7F 48 0C BD 3F E8 54 2D 3F 0F 0F FA 44 00 00 C0 7F 9A 6F BF 3F 66 2B 2B 3F B5 14 FA 44 00 00 C0 7F 61 12 C7 3F 9B 9A 24 3F 5A 1A FA 44 00 00 C0 7F D6 13 C9 3F 49 F6 22 3F 00 20 FA 44 00 00 C0 7F 2E EF C3 3F 5F 3D 27 3F 78 BC 63 AE 9A D9 33 3D C3 AE B5 69 CA 94 0A 00 41 B0 32 89 76 19 C4 1D 76 61 12 AD 00 77 36 DB C3 13 4E 4D 67 C9 1D 28 7A E7 1B 5B 68 FE B4 1E E7 07 01 3F 14 3A A2 E9 2C F4 F7 FD F6 A8 B7 95 ED 75 62 B6 19 98\n"
     ]
    }
   ],
   "source": [
    "# the raw memory dump, in hex. This isn't too useful...\n",
    "def print_hex(x):\n",
    "    print(\" \".join([\"%02X\" % byte for byte in x]))    \n",
    "    \n",
    "print_hex(crash_dump)"
   ]
  },
  {
   "cell_type": "code",
   "execution_count": 20,
   "metadata": {},
   "outputs": [
    {
     "data": {
      "text/plain": [
       "b'\\x15\\x9bu.\\x08\\xf9Q\\x9e\\t\\xd5\\xdb\\xd6\\x1e\\\\\\xd0\\x83\\xef\\xa9<\\x00\\xc0\\xf9D\\x00\\x00\\xc0\\x7f\\xb7\\xd2\\xdf?\\xbdf\\x12?\\xa6\\xc5\\xf9D\\x00\\x00\\xc0\\x7f\\xb5\\xeb\\xea?@|\\x0b?K\\xcb\\xf9D\\x00\\x00\\xc0\\x7f\\x84\\x12\\xee?\\x8b\\xa3\\t?\\xf1\\xd0\\xf9D\\x00\\x00\\xc0\\x7f\\x03n\\xda?&\\x04\\x16?\\x97\\xd6\\xf9D\\x00\\x00\\xc0\\x7f\\xa3Z\\xd7?\\xa3(\\x18?<\\xdc\\xf9D\\x00\\x00\\xc0\\x7f\\x82\\xe3\\xd2?ka\\x1b?\\xe2\\xe1\\xf9D\\x00\\x00\\xc0\\x7f\\x8e\\xd1\\xcc?I\\xfc\\x1f?\\x88\\xe7\\xf9D\\x00\\x00\\xc0\\x7f<>\\xcf?$\\x1d\\x1e?-\\xed\\xf9D\\x00\\x00\\xc0\\x7f\\x1b\\x98\\xcb?\\x99\\xf2 ?\\xd3\\xf2\\xf9D\\x00\\x00\\xc0\\x7f{=\\xd1?\\xd0\\x9a\\x1c?x\\xf8\\xf9D\\x00\\x00\\xc0\\x7f\\xa8\\xa4\\xc5?1\\xcb%?\\x1e\\xfe\\xf9D\\x00\\x00\\xc0\\x7f\\x87\\x11\\xbd?\\x19P-?\\xc4\\x03\\xfaD\\x00\\x00\\xc0\\x7ff|\\xc6?\\xfc\\x16%?i\\t\\xfaD\\x00\\x00\\xc0\\x7fH\\x0c\\xbd?\\xe8T-?\\x0f\\x0f\\xfaD\\x00\\x00\\xc0\\x7f\\x9ao\\xbf?f++?\\xb5\\x14\\xfaD\\x00\\x00\\xc0\\x7fa\\x12\\xc7?\\x9b\\x9a$?Z\\x1a\\xfaD\\x00\\x00\\xc0\\x7f\\xd6\\x13\\xc9?I\\xf6\"?\\x00 \\xfaD\\x00\\x00\\xc0\\x7f.\\xef\\xc3?_=\\'?x\\xbcc\\xae\\x9a\\xd93=\\xc3\\xae\\xb5i\\xca\\x94\\n\\x00A\\xb02\\x89v\\x19\\xc4\\x1dva\\x12\\xad\\x00w6\\xdb\\xc3\\x13NMg\\xc9\\x1d(z\\xe7\\x1b[h\\xfe\\xb4\\x1e\\xe7\\x07\\x01?\\x14:\\xa2\\xe9,\\xf4\\xf7\\xfd\\xf6\\xa8\\xb7\\x95\\xedub\\xb6\\x19\\x98'"
      ]
     },
     "execution_count": 20,
     "metadata": {},
     "output_type": "execute_result"
    }
   ],
   "source": [
    "crash_dump"
   ]
  },
  {
   "cell_type": "code",
   "execution_count": 21,
   "metadata": {},
   "outputs": [
    {
     "name": "stdout",
     "output_type": "stream",
     "text": [
      "00 00 00 00 00 00 00 80 FF 3F C4 1B 0A 00 00 00 00 00 00 00 00 00 00 80 00 40 00 00 00 00 00 00 00 00 00 00 00 00 00 C0 00 40 00 00 00 00 00 00 00 00 00 00 00 00 00 C0 FF 7F 00 00 00 00 00 00 00 00 00 00 00 00 00 80 01 40 00 00 FF FF FF FF 00 00 00 00 00 00 00 00 00 00 00 00 00 00 00 00 00 00 00 00 00 00 00 80 FF 7F 44 1B 0A 00 00 00 00 00 00 00 00 00 00 C0 FF 7F 00 00 00 00 00 00\n",
      "0 [ 1.  2.  3. nan  4.  0. inf nan]\n",
      "16 [ 2.  3. nan  4.  0. inf nan]\n",
      "32 [ 3. nan  4.  0. inf nan]\n",
      "48 [nan  4.  0. inf nan]\n",
      "64 [ 4.  0. inf nan]\n",
      "80 [ 0. inf nan]\n",
      "96 [inf nan]\n",
      "112 [nan]\n",
      "errors :  0\n"
     ]
    }
   ],
   "source": [
    "\n",
    "b = np.array([[1.0, 2.0, 3.0, np.nan],\n",
    "                    [4.0, 0.0, np.inf, np.nan]], dtype=np.float128).tobytes()\n",
    "\n",
    "print_hex(b)\n",
    "\n",
    "import numpy as np\n",
    "c = 0\n",
    "for i in range(0, len(b), 16):\n",
    "    try:\n",
    "        a = np.frombuffer(b[i:], dtype=np.float128)\n",
    "        print(i, a)\n",
    "        \n",
    "    except ValueError as v:\n",
    "        c = c + 1\n",
    "print(\"errors : \", c)"
   ]
  },
  {
   "cell_type": "code",
   "execution_count": 22,
   "metadata": {},
   "outputs": [
    {
     "name": "stdout",
     "output_type": "stream",
     "text": [
      "Got hash (1,), 5.0 but expected (2,), 77.0\n",
      "Got hash (1,), 5.0 but expected (2,), 77.0\n"
     ]
    },
    {
     "data": {
      "text/plain": [
       "False"
      ]
     },
     "execution_count": 22,
     "metadata": {},
     "output_type": "execute_result"
    }
   ],
   "source": [
    "test =((2,), 77.0)\n",
    "sh,stats = array_hash(a.shape)\n",
    "ok = sh==test[0] and np.allclose(stats, test[1], rtol=1e-2, atol=1e-3)\n",
    "if not ok:\n",
    "    print(f\"Got hash {sh}, {stats} but expected {test[0]}, {test[1]}\")\n",
    "\n",
    "\n",
    "check_hash(a.shape, ((2,), 77.0))"
   ]
  },
  {
   "cell_type": "code",
   "execution_count": 23,
   "metadata": {},
   "outputs": [
    {
     "data": {
      "image/png": "[encoded data removed]",
      "text/plain": [
       "1"
      ]
     },
     "execution_count": 23,
     "metadata": {},
     "output_type": "execute_result"
    }
   ],
   "source": [
    "def num_cont_nan(a):\n",
    "    nan_rep = 3.74697648e-310\n",
    "    c = 0\n",
    "    mc = 0\n",
    "    for i in range (len(a)):\n",
    "        if i > 0 and a[i] < np.array([1.0e-307])[0] and a[i-1] != nan_rep:\n",
    "            mc = max(mc,c )\n",
    "            c = 0\n",
    "        elif a[i] < np.array([1.0e-180])[0]:\n",
    "            c = c + 1\n",
    "    return max(mc,c)      \n",
    "num_cont_nan(np.array(\n",
    "[  3.74696712e-310,   7.95418906e+186,   3.74697180e-310,   3.16716436e+290,\n",
    "   3.74697648e-310,  -1.83060286e-137,   3.74698116e-310,   1.14154488e-288,\n",
    "   3.74698584e-310,   6.25328721e-113,   3.74699052e-310,   1.91550475e+161,\n",
    "   3.74699520e-310,  -4.92123136e+290,   3.74699989e-310,   2.68275803e-168,\n",
    "   3.74700457e-310,  -1.07751701e+244,   3.74700925e-310,  -1.56637913e-179,\n",
    "   3.74701393e-310,  -1.65213647e+054,   3.74701861e-310,   7.30907999e+077,\n",
    "   3.74702329e-310,   5.90483576e-198,   3.74702797e-310,   1.06077191e+101,\n",
    "   3.74703265e-310,   1.27151717e-099,   3.74703733e-310,  -1.64170557e-180,\n",
    "   3.74704201e-310,  -6.21145320e+261,   3.74704669e-310,   4.44076185e-013,\n",
    "  -4.40944317e+123,  -1.60682866e-208,   5.17938468e-186,   1.68034977e+265,\n",
    "  -4.15721083e+045,  -8.15548457e+300,   6.38854570e-029,  -2.39011934e-111,\n",
    "  -1.40891915e-192]\n",
    "))"
   ]
  },
  {
   "cell_type": "code",
   "execution_count": 24,
   "metadata": {},
   "outputs": [
    {
     "data": {
      "text/plain": [
       "numpy.float64"
      ]
     },
     "execution_count": 24,
     "metadata": {},
     "output_type": "execute_result"
    }
   ],
   "source": [
    "type(np.array(\n",
    "[  3.74696712e-310,   7.95418906e+186,   3.74697180e-310,   3.16716436e+290,\n",
    "   3.74697648e-310])[-1])"
   ]
  },
  {
   "cell_type": "code",
   "execution_count": 25,
   "metadata": {},
   "outputs": [
    {
     "name": "stdout",
     "output_type": "stream",
     "text": [
      "i =  57 R =  [[ 0. nan nan nan  0. nan  0.  0.  0. nan]\n",
      " [nan nan nan  0.  0. nan  0. nan  0. -0.]] len= 20 NAN= 10 shape= (2, 10)\n",
      "i =  89 R =  [[nan nan  0. nan  0.  0.  0. nan nan]\n",
      " [nan nan  0.  0. nan  0. nan  0. -0.]] len= 18 NAN= 9 shape= (2, 9)\n",
      "i =  185 R =  [[ 0. nan nan nan nan  0.]\n",
      " [ 0. nan  0. nan  0. -0.]] len= 12 NAN= 6 shape= (2, 6)\n",
      "i =  217 R =  [[nan nan nan  0.  0.]\n",
      " [nan  0. nan  0. -0.]] len= 10 NAN= 5 shape= (2, 5)\n",
      "i =  281 R =  [[ 0. nan]\n",
      " [ 0. nan]\n",
      " [ 0. -0.]] len= 6 NAN= 2 shape= (3, 2)\n",
      "i =  313 R =  [[ 0.]\n",
      " [nan]\n",
      " [ 0.]\n",
      " [-0.]] len= 4 NAN= 1 shape= (4, 1)\n",
      "errors :  0\n"
     ]
    }
   ],
   "source": [
    "import numpy as np\n",
    "c = 0\n",
    "p_len = -1\n",
    "for i in range(9, len(crash_dump), 16):\n",
    "    try:\n",
    "        a = np.frombuffer(crash_dump[i:], dtype=np.float128)\n",
    "        if len(a) > 1 and np.isnan(a[1]): #the second value as nan \n",
    "            nanc = np.count_nonzero(np.isnan(a))\n",
    "            if len(a) % nanc == 0:\n",
    "                rows = nanc\n",
    "                cols = len(a) // nanc\n",
    "                r = a.reshape(cols, rows)\n",
    "                shape = r.shape\n",
    "                print('i = ',i, 'R = ',r,'len=', len(a),'NAN=', nanc, 'shape=',shape)\n",
    "            \n",
    "        if len(a) != p_len - 1:\n",
    "            # if len(a) > 1 and np.isnan(a[1]):\n",
    "                # print(i, a, len(a))\n",
    "            p_len = len(a)\n",
    "        \n",
    "    except ValueError as v:\n",
    "        c = c + 1\n",
    "print(\"errors : \", c)"
   ]
  },
  {
   "cell_type": "code",
   "execution_count": 26,
   "metadata": {},
   "outputs": [
    {
     "name": "stdout",
     "output_type": "stream",
     "text": [
      "Got hash (1,), 5.0 but expected (2,), 77.0\n",
      "Got hash (1,), 5.0 but expected (2,), 77.0\n"
     ]
    },
    {
     "data": {
      "text/plain": [
       "False"
      ]
     },
     "execution_count": 26,
     "metadata": {},
     "output_type": "execute_result"
    }
   ],
   "source": [
    "test =((2,), 77.0)\n",
    "sh,stats = array_hash(a.shape)\n",
    "ok = sh==test[0] and np.allclose(stats, test[1], rtol=1e-2, atol=1e-3)\n",
    "if not ok:\n",
    "    print(f\"Got hash {sh}, {stats} but expected {test[0]}, {test[1]}\")\n",
    "\n",
    "\n",
    "check_hash(a.shape, ((2,), 77.0))"
   ]
  },
  {
   "cell_type": "markdown",
   "metadata": {
    "deletable": false,
    "editable": false,
    "nbgrader": {
     "cell_type": "markdown",
     "checksum": "281f8a29fd92d7a40321b2a2580f2c1c",
     "grade": false,
     "grade_id": "cell-70d474acad76e3d9",
     "locked": true,
     "schema_version": 3,
     "solution": false
    }
   },
   "source": [
    "### What you know\n",
    "All you have is the block of raw data you can see above.  You know the array is in there, but not exactly where it starts or stops.  The header information is gone, so there is no striding information/dope vector to go by.\n",
    "\n",
    "* You know that the second column of the array consists soley of NaN\n",
    "\n",
    "         a        b      c    ...\n",
    "         ...     NaN \n",
    "         ...     NaN\n",
    "         ...     NaN\n",
    "         ...     NaN\n",
    "              \n",
    "* You also know that all *other* values are finite \n",
    "* All non-NaN values in the array are known to be positive.\n",
    "* You can assume the data is some form of IEEE 754, though you do not know what specific type.\n",
    "* The data starts on a byte boundary.\n",
    "\n",
    "**This is sufficient information to solve the whole puzzle**"
   ]
  },
  {
   "cell_type": "markdown",
   "metadata": {
    "deletable": false,
    "editable": false,
    "nbgrader": {
     "cell_type": "markdown",
     "checksum": "4065c112980992f3c4bcfddd1787d047",
     "grade": false,
     "grade_id": "cell-bd15883bf21d89b9",
     "locked": true,
     "schema_version": 3,
     "solution": false
    }
   },
   "source": [
    "### Task\n",
    "Recover the data, formatted correctly, and store it in the variable `recovered_array`. \n",
    "\n",
    "* This will take some trial and error (although there *is* a relatively fast way to do it).\n",
    "      "
   ]
  },
  {
   "cell_type": "markdown",
   "metadata": {
    "deletable": false,
    "editable": false,
    "nbgrader": {
     "cell_type": "markdown",
     "checksum": "d7a82e136e4c544b5cba24afb70f9f8e",
     "grade": false,
     "grade_id": "cell-bb12e3dfddfe2c23",
     "locked": true,
     "schema_version": 3,
     "solution": false
    }
   },
   "source": [
    "* You can convert the data to a NumPy array like this:\n",
    "`np.frombuffer(bytes, dtype, count, offset)`\n",
    "* `bytes` the data to decode, as raw bytes\n",
    "* `dtype` the datatype of the data to decode\n",
    "* `count` the number of **elements** in the array\n",
    "* `offset` **in bytes** to start recovering data\n",
    "    "
   ]
  },
  {
   "cell_type": "code",
   "execution_count": 27,
   "metadata": {},
   "outputs": [
    {
     "name": "stdout",
     "output_type": "stream",
     "text": [
      "###################\n",
      "###################\n",
      "###################\n",
      "###################\n",
      "###################\n",
      "###################\n",
      "###################\n",
      "###################\n",
      "###################\n",
      "###################\n",
      "###################\n",
      "###################\n",
      "###################\n",
      "###################\n",
      "###################\n",
      "###################\n",
      "###################\n",
      "###################\n",
      "###################\n",
      "###################\n",
      "###################\n",
      "###################\n",
      "###################\n",
      "###################\n",
      "###################\n",
      "###################\n",
      "###################\n",
      "###################\n",
      "###################\n",
      "###################\n",
      "###################\n",
      "###################\n",
      "###################\n",
      "###################\n",
      "###################\n",
      "###################\n",
      "###################\n",
      "###################\n",
      "###################\n",
      "###################\n",
      "###################\n",
      "###################\n",
      "###################\n",
      "###################\n",
      "###################\n",
      "###################\n",
      "###################\n",
      "###################\n",
      "###################\n",
      "###################\n",
      "###################\n",
      "###################\n",
      "###################\n",
      "###################\n",
      "###################\n",
      "###################\n",
      "###################\n",
      "###################\n",
      "###################\n",
      "###################\n",
      "###################\n",
      "###################\n",
      "###################\n",
      "###################\n",
      "###################\n",
      "###################\n",
      "###################\n",
      "###################\n",
      "###################\n",
      "###################\n",
      "###################\n",
      "###################\n",
      "###################\n",
      "###################\n",
      "###################\n",
      "###################\n",
      "###################\n",
      "###################\n",
      "###################\n",
      "###################\n",
      "###################\n",
      "###################\n",
      "###################\n",
      "###################\n",
      "###################\n",
      "###################\n",
      "###################\n",
      "###################\n",
      "###################\n",
      "###################\n",
      "###################\n",
      "###################\n",
      "###################\n",
      "###################\n",
      "###################\n",
      "###################\n",
      "###################\n",
      "###################\n",
      "###################\n",
      "###################\n",
      "###################\n",
      "###################\n",
      "###################\n",
      "###################\n",
      "###################\n",
      "###################\n",
      "###################\n",
      "###################\n",
      "###################\n",
      "###################\n",
      "###################\n",
      "###################\n",
      "###################\n",
      "###################\n",
      "###################\n",
      "###################\n",
      "###################\n",
      "###################\n",
      "###################\n",
      "###################\n",
      "###################\n",
      "###################\n",
      "###################\n",
      "###################\n",
      "###################\n",
      "###################\n",
      "###################\n",
      "###################\n",
      "###################\n",
      "###################\n",
      "###################\n",
      "###################\n",
      "###################\n",
      "###################\n",
      "###################\n",
      "###################\n",
      "###################\n",
      "###################\n",
      "###################\n",
      "###################\n",
      "###################\n",
      "###################\n",
      "###################\n",
      "###################\n",
      "###################\n",
      "###################\n",
      "###################\n",
      "###################\n",
      "###################\n",
      "###################\n",
      "###################\n",
      "###################\n",
      "###################\n",
      "###################\n",
      "###################\n",
      "###################\n",
      "###################\n",
      "###################\n",
      "###################\n",
      "###################\n",
      "###################\n",
      "###################\n",
      "###################\n",
      "###################\n",
      "###################\n",
      "###################\n",
      "###################\n",
      "###################\n",
      "###################\n",
      "###################\n",
      "###################\n",
      "###################\n",
      "###################\n",
      "###################\n",
      "###################\n",
      "###################\n",
      "###################\n",
      "###################\n",
      "###################\n",
      "###################\n",
      "###################\n",
      "###################\n",
      "###################\n",
      "###################\n",
      "###################\n",
      "###################\n",
      "###################\n",
      "###################\n",
      "###################\n",
      "###################\n",
      "###################\n",
      "###################\n",
      "###################\n",
      "###################\n",
      "###################\n",
      "###################\n",
      "###################\n",
      "###################\n",
      "###################\n",
      "###################\n",
      "###################\n",
      "###################\n",
      "###################\n",
      "###################\n",
      "###################\n",
      "###################\n",
      "###################\n",
      "###################\n",
      "###################\n",
      "###################\n",
      "###################\n",
      "###################\n",
      "###################\n",
      "###################\n",
      "###################\n",
      "###################\n",
      "###################\n",
      "###################\n",
      "###################\n",
      "###################\n",
      "###################\n",
      "###################\n",
      "###################\n",
      "###################\n",
      "###################\n",
      "###################\n",
      "###################\n",
      "###################\n",
      "###################\n",
      "###################\n",
      "###################\n",
      "###################\n",
      "###################\n",
      "###################\n",
      "###################\n",
      "###################\n",
      "###################\n",
      "###################\n",
      "###################\n",
      "###################\n",
      "###################\n",
      "###################\n",
      "###################\n",
      "###################\n",
      "###################\n",
      "###################\n",
      "###################\n",
      "###################\n",
      "###################\n",
      "###################\n",
      "###################\n",
      "###################\n",
      "###################\n",
      "###################\n",
      "###################\n",
      "###################\n",
      "###################\n",
      "###################\n",
      "###################\n",
      "###################\n",
      "###################\n",
      "###################\n",
      "###################\n",
      "###################\n",
      "###################\n",
      "###################\n",
      "###################\n",
      "###################\n",
      "###################\n",
      "###################\n",
      "###################\n",
      "###################\n",
      "###################\n",
      "###################\n",
      "###################\n",
      "###################\n",
      "###################\n",
      "###################\n",
      "###################\n",
      "###################\n",
      "###################\n",
      "###################\n",
      "###################\n",
      "###################\n",
      "###################\n",
      "###################\n",
      "###################\n",
      "###################\n",
      "###################\n",
      "###################\n",
      "###################\n",
      "###################\n",
      "###################\n",
      "###################\n",
      "###################\n",
      "###################\n",
      "###################\n",
      "###################\n",
      "###################\n",
      "###################\n",
      "###################\n",
      "###################\n",
      "###################\n",
      "###################\n",
      "###################\n",
      "###################\n",
      "###################\n",
      "###################\n",
      "###################\n",
      "###################\n",
      "###################\n",
      "###################\n",
      "###################\n",
      "###################\n",
      "###################\n",
      "###################\n",
      "###################\n",
      "###################\n",
      "###################\n",
      "###################\n",
      "###################\n",
      "###################\n",
      "###################\n",
      "###################\n",
      "###################\n",
      "###################\n",
      "###################\n",
      "###################\n",
      "###################\n",
      "###################\n",
      "###################\n",
      "###################\n",
      "###################\n",
      "###################\n",
      "###################\n",
      "###################\n",
      "###################\n",
      "###################\n",
      "###################\n",
      "###################\n",
      "###################\n",
      "###################\n",
      "###################\n",
      "###################\n",
      "###################\n",
      "###################\n",
      "###################\n",
      "###################\n",
      "###################\n",
      "###################\n",
      "###################\n",
      "###################\n",
      "###################\n",
      "###################\n",
      "###################\n",
      "###################\n",
      "###################\n",
      "###################\n",
      "###################\n",
      "###################\n",
      "###################\n",
      "###################\n",
      "###################\n",
      "###################\n",
      "###################\n",
      "###################\n",
      "###################\n",
      "###################\n",
      "###################\n",
      "###################\n",
      "###################\n",
      "###################\n",
      "###################\n",
      "###################\n",
      "###################\n",
      "###################\n",
      "###################\n",
      "###################\n",
      "###################\n",
      "###################\n",
      "###################\n",
      "###################\n",
      "###################\n",
      "###################\n",
      "###################\n",
      "###################\n",
      "###################\n",
      "###################\n",
      "###################\n",
      "###################\n",
      "###################\n",
      "###################\n",
      "###################\n",
      "###################\n",
      "###################\n",
      "###################\n",
      "###################\n",
      "###################\n",
      "###################\n",
      "###################\n",
      "###################\n",
      "###################\n",
      "###################\n",
      "###################\n",
      "###################\n",
      "###################\n",
      "###################\n",
      "###################\n",
      "###################\n",
      "###################\n"
     ]
    }
   ],
   "source": [
    "for k in range(410):\n",
    "    for j in range(2,400):\n",
    "        try:\n",
    "            arr=np.frombuffer(crash_dump, 'float128', j,k)\n",
    "            if np.isnan(arr[1]):\n",
    "                indicator=1\n",
    "                na.rm=true\n",
    "                for s in arr:\n",
    "                    if not np.isnan(s):\n",
    "                        if s<=0:\n",
    "                            indicator=0\n",
    "                if indicator==1:\n",
    "                    print(arr)\n",
    "                    print('********')\n",
    "                    print('\\n')\n",
    "                    print(j,k)\n",
    "                    print('******')\n",
    "        \n",
    "        except:\n",
    "            pass\n",
    "    print('###################')"
   ]
  },
  {
   "cell_type": "code",
   "execution_count": 28,
   "metadata": {},
   "outputs": [],
   "source": [
    "# A wrong example:\n",
    "# try and read 18 words from offset 0\n",
    "# reshape to a 6,3 array\n",
    "# this clearly isn't right, as you will see\n",
    "recovered_array = np.frombuffer(crash_dump, dtype=np.int, count=4, offset=0).reshape(4,1)"
   ]
  },
  {
   "cell_type": "code",
   "execution_count": 29,
   "metadata": {},
   "outputs": [
    {
     "data": {
      "image/png": "[encoded data removed]",
      "text/plain": [
       "(4, 1)"
      ]
     },
     "execution_count": 29,
     "metadata": {},
     "output_type": "execute_result"
    }
   ],
   "source": [
    "recovered_array.shape"
   ]
  },
  {
   "cell_type": "markdown",
   "metadata": {
    "deletable": false,
    "editable": false,
    "nbgrader": {
     "cell_type": "markdown",
     "checksum": "71c132d31fb4cb9f3e4613430c9d3316",
     "grade": false,
     "grade_id": "cell-68ce5b4ae1bdde88",
     "locked": true,
     "schema_version": 3,
     "solution": false,
     "task": false
    }
   },
   "source": [
    "* A hint: you can show how any NumPy memory will appear in memory in hex using `tobytes()` -- see the example below. Also, remember you need to infer the *shape* of the array."
   ]
  },
  {
   "cell_type": "code",
   "execution_count": 30,
   "metadata": {},
   "outputs": [
    {
     "name": "stdout",
     "output_type": "stream",
     "text": [
      "00 00 00 00 00 00 F0 3F 00 00 00 00 00 00 00 40 00 00 00 00 00 00 08 40 00 00 00 00 00 00 10 40 00 00 00 00 00 00 00 00 00 00 00 00 00 00 00 00\n"
     ]
    }
   ],
   "source": [
    "# create a simple array, and then get the raw bytes and print them\n",
    "print_hex(np.array([[1.0, 2.0, 3.0], \n",
    "                    [4.0, 0.0, 0.0]], dtype=np.float64).tobytes())"
   ]
  },
  {
   "cell_type": "code",
   "execution_count": 31,
   "metadata": {
    "deletable": false,
    "nbgrader": {
     "cell_type": "code",
     "checksum": "353b74181f21b31e1555c811a6043638",
     "grade": false,
     "grade_id": "cell-0052fe4f66d7ebdc",
     "locked": false,
     "schema_version": 3,
     "solution": true
    }
   },
   "outputs": [
    {
     "data": {
      "text/plain": [
       "array([[1998.        ,           nan,    1.748618  ,    0.57188016],\n",
       "       [1998.1765    ,           nan,    1.8353182 ,    0.54486465],\n",
       "       [1998.3529    ,           nan,    1.85994   ,    0.5376517 ],\n",
       "       [1998.5294    ,           nan,    1.7064823 ,    0.5860008 ],\n",
       "       [1998.7059    ,           nan,    1.6824535 ,    0.59437007],\n",
       "       [1998.8823    ,           nan,    1.647568  ,    0.60695523],\n",
       "       [1999.0588    ,           nan,    1.6001451 ,    0.6249433 ],\n",
       "       [1999.2354    ,           nan,    1.6190867 ,    0.61763215],\n",
       "       [1999.4117    ,           nan,    1.5905794 ,    0.62870175],\n",
       "       [1999.5883    ,           nan,    1.6346887 ,    0.61173725],\n",
       "       [1999.7646    ,           nan,    1.5440874 ,    0.6476317 ],\n",
       "       [1999.9412    ,           nan,    1.4770974 ,    0.67700344],\n",
       "       [2000.1177    ,           nan,    1.5506713 ,    0.64488196],\n",
       "       [2000.2941    ,           nan,    1.4769373 ,    0.6770768 ],\n",
       "       [2000.4706    ,           nan,    1.4955933 ,    0.66863096],\n",
       "       [2000.6471    ,           nan,    1.5552484 ,    0.6429841 ],\n",
       "       [2000.8235    ,           nan,    1.5709178 ,    0.6365705 ],\n",
       "       [2001.        ,           nan,    1.5307367 ,    0.6532802 ]],\n",
       "      dtype=float32)"
      ]
     },
     "execution_count": 31,
     "metadata": {},
     "output_type": "execute_result"
    }
   ],
   "source": [
    "recovered_array=np.frombuffer(crash_dump, 'float32', 72,19)\n",
    "recovered_array=recovered_array.reshape((18,4))\n",
    "#recovered_array = recovered_array[~np.isnan(recovered_array)]\n",
    "recovered_array"
   ]
  },
  {
   "cell_type": "code",
   "execution_count": 32,
   "metadata": {
    "deletable": false,
    "editable": false,
    "nbgrader": {
     "cell_type": "code",
     "checksum": "777c6f67ae75792b67d24b7a6c550614",
     "grade": true,
     "grade_id": "cell-9ac5af2bda4cd2ed",
     "locked": true,
     "points": 5,
     "schema_version": 3,
     "solution": false
    }
   },
   "outputs": [
    {
     "data": {
      "text/html": [
       "\n",
       "        <div class=\"alert alert-box alert-success\">\n",
       "        <h1> <!--{id:\"CORRECTMARK\", marks:\"5\"}--> \n",
       "         ✓ [5 marks] \n",
       "         </h1> </div>"
      ],
      "text/plain": [
       "<IPython.core.display.HTML object>"
      ]
     },
     "metadata": {},
     "output_type": "display_data"
    }
   ],
   "source": [
    "# test the shape\n",
    "with tick.marks(5):        \n",
    "    assert(check_hash(recovered_array.shape, ((2,), 77.0)))"
   ]
  },
  {
   "cell_type": "code",
   "execution_count": 33,
   "metadata": {
    "deletable": false,
    "editable": false,
    "nbgrader": {
     "cell_type": "code",
     "checksum": "52d0f491dbfc780f51b310abcdeaa544",
     "grade": true,
     "grade_id": "cell-926515ccd575cbf4",
     "locked": true,
     "points": 8,
     "schema_version": 3,
     "solution": false
    }
   },
   "outputs": [
    {
     "data": {
      "text/html": [
       "\n",
       "        <div class=\"alert alert-box alert-success\">\n",
       "        <h1> <!--{id:\"CORRECTMARK\", marks:\"8\"}--> \n",
       "         ✓ [8 marks] \n",
       "         </h1> </div>"
      ],
      "text/plain": [
       "<IPython.core.display.HTML object>"
      ]
     },
     "metadata": {},
     "output_type": "display_data"
    }
   ],
   "source": [
    "# test if the result is correct   \n",
    "with tick.marks(8):        \n",
    "    assert(np.allclose(array_hash(recovered_array)[1], 1265119.8746899366, atol=1e-2, rtol=1e-2))"
   ]
  },
  {
   "cell_type": "markdown",
   "metadata": {
    "deletable": false,
    "editable": false,
    "nbgrader": {
     "cell_type": "markdown",
     "checksum": "6bf8abcccbfe4aa801b39a147dd08d2c",
     "grade": false,
     "grade_id": "cell-0e8cf17bfe87e8ff",
     "locked": true,
     "schema_version": 3,
     "solution": false
    }
   },
   "source": [
    "# 3. Working with tensors [1 hour]\n",
    "The file `data/font_sheet.png` contains a number of characters in different fonts. It is an image which consists of the images of each *printable* ASCII character, (characters 32-128) arranged left to right. Each character image is precisely square. \n",
    "\n",
    "These are the characters present, in order:"
   ]
  },
  {
   "cell_type": "code",
   "execution_count": 406,
   "metadata": {},
   "outputs": [
    {
     "name": "stdout",
     "output_type": "stream",
     "text": [
      " !\"#$%&'()*+,-./0123456789:;<=>?@ABCDEFGHIJKLMNOPQRSTUVWXYZ[\\]^_`abcdefghijklmnopqrstuvwxyz{|}~\n"
     ]
    }
   ],
   "source": [
    "chars = \"\".join([chr(i) for i in range(32,128)])\n",
    "print(chars)"
   ]
  },
  {
   "cell_type": "markdown",
   "metadata": {
    "deletable": false,
    "editable": false,
    "nbgrader": {
     "cell_type": "markdown",
     "checksum": "71a40cf600df1c6947671f167e00c910",
     "grade": false,
     "grade_id": "cell-9e3426b2a10d4afc",
     "locked": true,
     "schema_version": 3,
     "solution": false
    }
   },
   "source": [
    "  \n",
    "Each font is also stacked left to right, so the image is one *very* long strip of characters. The image is grayscale."
   ]
  },
  {
   "cell_type": "code",
   "execution_count": 407,
   "metadata": {},
   "outputs": [
    {
     "name": "stdout",
     "output_type": "stream",
     "text": [
      "(1856, 6144)\n"
     ]
    }
   ],
   "source": [
    "all_fonts = ia.load_image_gray(\"data/font_sheet.png\")\n",
    "print(all_fonts.shape)"
   ]
  },
  {
   "cell_type": "code",
   "execution_count": 408,
   "metadata": {},
   "outputs": [
    {
     "data": {
      "image/png": "[encoded data removed]",
      "text/plain": [
       "<IPython.core.display.Image object>"
      ]
     },
     "metadata": {
      "image/png": {
       "width": "100%"
      }
     },
     "output_type": "display_data"
    }
   ],
   "source": [
    "# show a portion of the image\n",
    "ia.show_image(all_fonts[64:128, 1024:2048])"
   ]
  },
  {
   "cell_type": "markdown",
   "metadata": {
    "deletable": false,
    "editable": false,
    "nbgrader": {
     "cell_type": "markdown",
     "checksum": "df524db31461ad8323e8e964e79d301a",
     "grade": false,
     "grade_id": "cell-b8d67310b0668f38",
     "locked": true,
     "schema_version": 3,
     "solution": false
    }
   },
   "source": [
    "# Tasks\n",
    "A. Rearrange the image into a tensor called `font_sheet` that is ordered like this:\n",
    "\n",
    "        (font, character, rows, cols)\n",
    "        \n",
    "* Showing the image `font_sheet[16, 33, :, :]` should show the \"A\" character of the 17th font.\n",
    "* Showing the image `font_sheet[10, 1, :, :]` should be the \"!\" character of the 11th font."
   ]
  },
  {
   "cell_type": "code",
   "execution_count": 409,
   "metadata": {},
   "outputs": [
    {
     "data": {
      "text/latex": [
       "\\[   \\fbox{  $ \n",
       " \\quad \\  \\llap{0} \\ \\  \\strut  \\quad \\  \\llap{1} \\ \\  \\strut  \\quad \\  \\llap{2} \\ \\  \\strut  \\quad \\  \\llap{3} \\ \\  \\strut  \\quad \\  \\llap{4} \\ \\  \\strut  \\quad \\  \\llap{5} \\ \\  \\strut \\\\ \n",
       "\\quad \\  \\llap{6} \\ \\  \\strut  \\quad \\  \\llap{7} \\ \\  \\strut  \\quad \\  \\llap{8} \\ \\  \\strut  \\quad \\  \\llap{9} \\ \\  \\strut  \\quad \\  \\llap{10} \\ \\  \\strut  \\quad \\  \\llap{11} \\ \\  \\strut \\\\ \n",
       "\\quad \\  \\llap{12} \\ \\  \\strut  \\quad \\  \\llap{13} \\ \\  \\strut  \\quad \\  \\llap{14} \\ \\  \\strut  \\quad \\  \\llap{15} \\ \\  \\strut  \\quad \\  \\llap{16} \\ \\  \\strut  \\quad \\  \\llap{17} \\ \\  \\strut \\\\ \n",
       "\\quad \\  \\llap{18} \\ \\  \\strut  \\quad \\  \\llap{19} \\ \\  \\strut  \\quad \\  \\llap{20} \\ \\  \\strut  \\quad \\  \\llap{21} \\ \\  \\strut  \\quad \\  \\llap{22} \\ \\  \\strut  \\quad \\  \\llap{23} \\ \\  \\strut \\\\ \n",
       "\\quad \\  \\llap{24} \\ \\  \\strut  \\quad \\  \\llap{25} \\ \\  \\strut  \\quad \\  \\llap{26} \\ \\  \\strut  \\quad \\  \\llap{27} \\ \\  \\strut  \\quad \\  \\llap{28} \\ \\  \\strut  \\quad \\  \\llap{29} \\ \\  \\strut \\\\ \n",
       "\\quad \\  \\llap{30} \\ \\  \\strut  \\quad \\  \\llap{31} \\ \\  \\strut  \\quad \\  \\llap{32} \\ \\  \\strut  \\quad \\  \\llap{33} \\ \\  \\strut  \\quad \\  \\llap{34} \\ \\  \\strut  \\quad \\  \\llap{35} \\ \\  \\strut   \\strut $ }\\ \\  \\]"
      ],
      "text/plain": [
       "<IPython.core.display.Latex object>"
      ]
     },
     "metadata": {},
     "output_type": "display_data"
    },
    {
     "data": {
      "text/latex": [
       "\\[   \\fbox{  $ \n",
       "   \\fbox{  $ \n",
       " \\quad \\  \\llap{0} \\ \\  \\strut  \\quad \\  \\llap{1} \\ \\  \\strut  \\quad \\  \\llap{2} \\ \\  \\strut \\\\ \n",
       "\\quad \\  \\llap{3} \\ \\  \\strut  \\quad \\  \\llap{4} \\ \\  \\strut  \\quad \\  \\llap{5} \\ \\  \\strut   \\strut $ }\\ \\    \\fbox{  $ \n",
       " \\quad \\  \\llap{6} \\ \\  \\strut  \\quad \\  \\llap{7} \\ \\  \\strut  \\quad \\  \\llap{8} \\ \\  \\strut \\\\ \n",
       "\\quad \\  \\llap{9} \\ \\  \\strut  \\quad \\  \\llap{10} \\ \\  \\strut  \\quad \\  \\llap{11} \\ \\  \\strut   \\strut $ }\\ \\    \\fbox{  $ \n",
       " \\quad \\  \\llap{12} \\ \\  \\strut  \\quad \\  \\llap{13} \\ \\  \\strut  \\quad \\  \\llap{14} \\ \\  \\strut \\\\ \n",
       "\\quad \\  \\llap{15} \\ \\  \\strut  \\quad \\  \\llap{16} \\ \\  \\strut  \\quad \\  \\llap{17} \\ \\  \\strut   \\strut $ }\\ \\ \\\\ \n",
       "  \\fbox{  $ \n",
       " \\quad \\  \\llap{18} \\ \\  \\strut  \\quad \\  \\llap{19} \\ \\  \\strut  \\quad \\  \\llap{20} \\ \\  \\strut \\\\ \n",
       "\\quad \\  \\llap{21} \\ \\  \\strut  \\quad \\  \\llap{22} \\ \\  \\strut  \\quad \\  \\llap{23} \\ \\  \\strut   \\strut $ }\\ \\    \\fbox{  $ \n",
       " \\quad \\  \\llap{24} \\ \\  \\strut  \\quad \\  \\llap{25} \\ \\  \\strut  \\quad \\  \\llap{26} \\ \\  \\strut \\\\ \n",
       "\\quad \\  \\llap{27} \\ \\  \\strut  \\quad \\  \\llap{28} \\ \\  \\strut  \\quad \\  \\llap{29} \\ \\  \\strut   \\strut $ }\\ \\    \\fbox{  $ \n",
       " \\quad \\  \\llap{30} \\ \\  \\strut  \\quad \\  \\llap{31} \\ \\  \\strut  \\quad \\  \\llap{32} \\ \\  \\strut \\\\ \n",
       "\\quad \\  \\llap{33} \\ \\  \\strut  \\quad \\  \\llap{34} \\ \\  \\strut  \\quad \\  \\llap{35} \\ \\  \\strut   \\strut $ }\\ \\   \\strut $ }\\ \\  \\]"
      ],
      "text/plain": [
       "<IPython.core.display.Latex object>"
      ]
     },
     "metadata": {},
     "output_type": "display_data"
    }
   ],
   "source": [
    "## hint\n",
    "from jhwutils.matrices import show_boxed_tensor_latex\n",
    "n = np.arange(36).reshape(2*3, 3*2)\n",
    "show_boxed_tensor_latex(n, box_rows=False)\n",
    "show_boxed_tensor_latex(n.reshape(2,3,2,3), box_rows=False)"
   ]
  },
  {
   "cell_type": "code",
   "execution_count": 410,
   "metadata": {
    "deletable": false,
    "nbgrader": {
     "cell_type": "code",
     "checksum": "9094e98e207c37606ecf1d7305e41f08",
     "grade": false,
     "grade_id": "cell-66e3a2fcbe9e7e36",
     "locked": false,
     "schema_version": 3,
     "solution": true
    }
   },
   "outputs": [],
   "source": [
    "#code\n",
    "font_sheet=all_fonts.reshape((29,96,64,64),order='A')\n",
    "font_sheet=np.zeros(shape=(29,96,64,64))\n",
    "for i in range(29):\n",
    "    for j in range(96):\n",
    "        font_sheet[i,j,:,:]=all_fonts[i*64:(i+1)*64,j*64:(j+1)*64]"
   ]
  },
  {
   "cell_type": "code",
   "execution_count": 411,
   "metadata": {},
   "outputs": [
    {
     "data": {
      "image/png": "[encoded data removed]",
      "text/plain": [
       "<matplotlib.figure.Figure at 0x11bfb9b00>"
      ]
     },
     "metadata": {},
     "output_type": "display_data"
    }
   ],
   "source": [
    "# if your code worked, you should see an ! below\n",
    "ia.show_image_mpl(font_sheet[10, 1, :, :])"
   ]
  },
  {
   "cell_type": "code",
   "execution_count": 400,
   "metadata": {},
   "outputs": [
    {
     "data": {
      "image/png": "[encoded data removed]",
      "text/plain": [
       "<IPython.core.display.Image object>"
      ]
     },
     "metadata": {
      "image/png": {
       "width": "20%"
      }
     },
     "output_type": "display_data"
    }
   ],
   "source": [
    "# if your code worked, you should see a gif of letters below\n",
    "ia.show_gif(np.rollaxis(font_sheet[:,:,8,33:33+26],2), width=\"20%\")\n"
   ]
  },
  {
   "cell_type": "code",
   "execution_count": 401,
   "metadata": {
    "deletable": false,
    "editable": false,
    "nbgrader": {
     "cell_type": "code",
     "checksum": "4d498671de2cc2f383a7a20ac7cfce44",
     "grade": true,
     "grade_id": "cell-e21fcd41d335d470",
     "locked": true,
     "points": 6,
     "schema_version": 3,
     "solution": false
    }
   },
   "outputs": [
    {
     "data": {
      "text/html": [
       "<h3> <!--{id:\"CORRECTMARK\", marks:\"6\"}--> <font color=\"green\"> ✓ [6 marks] </font> </h3>"
      ],
      "text/plain": [
       "<IPython.core.display.HTML object>"
      ]
     },
     "metadata": {},
     "output_type": "display_data"
    }
   ],
   "source": [
    "# test shape is correct\n",
    "with tick.marks(6):        \n",
    "    assert(check_hash(font_sheet.shape, ((4,), 938.9499472573252)))"
   ]
  },
  {
   "cell_type": "code",
   "execution_count": 402,
   "metadata": {
    "deletable": false,
    "editable": false,
    "nbgrader": {
     "cell_type": "code",
     "checksum": "1c04cf8b36f9e9b60333e9346acd4774",
     "grade": true,
     "grade_id": "cell-b26945a0ff9f8ded",
     "locked": true,
     "points": 10,
     "schema_version": 3,
     "solution": false
    }
   },
   "outputs": [
    {
     "data": {
      "text/html": [
       "<h3> <!--{id:\"CORRECTMARK\", marks:\"10\"}--> <font color=\"green\"> ✓ [10 marks] </font> </h3>"
      ],
      "text/plain": [
       "<IPython.core.display.HTML object>"
      ]
     },
     "metadata": {},
     "output_type": "display_data"
    }
   ],
   "source": [
    "# test content is ok\n",
    "with tick.marks(10):    \n",
    "    assert(np.allclose(array_hash(font_sheet)[1], 55441039333148.88, atol=1e-2, rtol=1e-2))    "
   ]
  },
  {
   "cell_type": "markdown",
   "metadata": {
    "deletable": false,
    "editable": false,
    "nbgrader": {
     "cell_type": "markdown",
     "checksum": "d21a11c2d265bae1f2ffcdf80aad7164",
     "grade": false,
     "grade_id": "cell-c660c03ac76fe59b",
     "locked": true,
     "schema_version": 3,
     "solution": false
    }
   },
   "source": [
    "B. Create an array `letter_sample`, which will be a 2D image containing one letter from each of the letters in the lowercase alphabet, with each character in a different font. The results should show \"a\" in font 0, \"b\" in font 1, \"c\" in font 2 and so on, as a single continuous strip.\n",
    "\n",
    "The letters should be arranged horizontally and contiguously in a strip in the output image:\n",
    "\n",
    "       abcdefghijklmnopqrstuvwxyz\n",
    "\n",
    "\n",
    "Hint:\n",
    "* you will have to partially *undo* some of the swapping/reshaping you did earlier to get the data in the right format\n",
    "* you need to use fancy indexing\n",
    "* you'll need to slice -- work out how to slice the array correctly\n",
    "* do not use a loop"
   ]
  },
  {
   "cell_type": "code",
   "execution_count": null,
   "metadata": {
    "collapsed": true,
    "deletable": false,
    "nbgrader": {
     "cell_type": "code",
     "checksum": "bc8bf8fce5787bb58dac807e78af8097",
     "grade": false,
     "grade_id": "cell-885aa32f73499743",
     "locked": false,
     "schema_version": 3,
     "solution": true
    }
   },
   "outputs": [],
   "source": [
    "# YOUR CODE HERE"
   ]
  },
  {
   "cell_type": "code",
   "execution_count": null,
   "metadata": {
    "collapsed": true
   },
   "outputs": [],
   "source": [
    "# each character should appear in a different font\n",
    "ia.show_image(mean_letters)"
   ]
  },
  {
   "cell_type": "code",
   "execution_count": null,
   "metadata": {
    "collapsed": true,
    "deletable": false,
    "editable": false,
    "nbgrader": {
     "cell_type": "code",
     "checksum": "3f4d879844d1f1e78160b0cba4517542",
     "grade": true,
     "grade_id": "cell-70f65b6bc9676a93",
     "locked": true,
     "points": 8,
     "schema_version": 3,
     "solution": false
    }
   },
   "outputs": [],
   "source": [
    "\n",
    "with tick.marks(8):\n",
    "    assert(check_hash(letter_sample,((64, 1664), 4861094994.1019411)))"
   ]
  },
  {
   "cell_type": "markdown",
   "metadata": {
    "deletable": false,
    "editable": false,
    "nbgrader": {
     "cell_type": "markdown",
     "checksum": "f66a4cf512c07551217a74fac8abe246",
     "grade": false,
     "grade_id": "cell-36342921a0efbd7d",
     "locked": true,
     "schema_version": 3,
     "solution": false
    }
   },
   "source": [
    "C. Compute the average representation of the letter \"x\" by taking the 64x64 mean image of the letter `x` across all fonts and store it in `average_x`.\n",
    "\n",
    "        "
   ]
  },
  {
   "cell_type": "code",
   "execution_count": null,
   "metadata": {
    "collapsed": true,
    "deletable": false,
    "nbgrader": {
     "cell_type": "code",
     "checksum": "ab5df9bb8c093d929deac48aeff63822",
     "grade": false,
     "grade_id": "cell-e9b55239e54bd3d9",
     "locked": false,
     "schema_version": 3,
     "solution": true
    }
   },
   "outputs": [],
   "source": [
    "# YOUR CODE HERE"
   ]
  },
  {
   "cell_type": "code",
   "execution_count": null,
   "metadata": {
    "collapsed": true
   },
   "outputs": [],
   "source": [
    "# show the result -- should be a 64x64 image\n",
    "ia.show_image_mpl(average_x)"
   ]
  },
  {
   "cell_type": "code",
   "execution_count": null,
   "metadata": {
    "collapsed": true,
    "deletable": false,
    "editable": false,
    "nbgrader": {
     "cell_type": "code",
     "checksum": "f1e982db58f6f7f7bc5c488478800085",
     "grade": true,
     "grade_id": "cell-23945e7b1798eac2",
     "locked": true,
     "points": 5,
     "schema_version": 3,
     "solution": false
    }
   },
   "outputs": [],
   "source": [
    "with tick.marks(5):    \n",
    "    assert(check_hash(average_x, ((64, 64), 7278599.401423973)))"
   ]
  },
  {
   "cell_type": "markdown",
   "metadata": {},
   "source": [
    "# End of assessed portion\n",
    "\n",
    "----------------------------------\n",
    "\n",
    "## Extended material\n",
    "\n",
    "<font color=\"red\"> Material beyond this point is optional. You do not have to attempt it or look at it. There are no marks. \n",
    "</font>"
   ]
  },
  {
   "cell_type": "markdown",
   "metadata": {},
   "source": [
    "## Rendering fonts\n",
    "Complete the function below. It should render text using the provided font index, and *return* a single array with the text rendered in a horizontal strip. It should use `font_sheet` that you defined earlier. You can assume equal spacing of letters. \n",
    "\n",
    "* You can compute the index of the character in the same units as the font sheet using the formula:\n",
    "\n",
    "      ix = ord(char) - 32\n",
    "    \n",
    "Every ASCII character (32-127) should be rendered. Any character that could not be rendered should be rendered as a **blank white** square.    \n",
    "\n",
    "* It is fine to use a `for` loop to solve this problem"
   ]
  },
  {
   "cell_type": "code",
   "execution_count": null,
   "metadata": {
    "collapsed": true,
    "deletable": false,
    "nbgrader": {
     "cell_type": "code",
     "checksum": "f3928feae007c14a8a77f3d94e389088",
     "grade": false,
     "grade_id": "cell-5ae83dcf83f39b03",
     "locked": false,
     "schema_version": 3,
     "solution": true
    }
   },
   "outputs": [],
   "source": [
    "def render_text(string, font_index):\n",
    "    \"\"\"Returns an image with the given string rendered, using the font_index selected.\n",
    "    Reads characters from font_sheet.\n",
    "    string: String to be rendered.\n",
    "    font_index: index of the font to use\"\"\"\n",
    "    pass # you can delete this line\n",
    "    # YOUR CODE HERE"
   ]
  },
  {
   "cell_type": "code",
   "execution_count": null,
   "metadata": {
    "collapsed": true
   },
   "outputs": [],
   "source": [
    "# you should be able to read this\n",
    "ia.show_image(render_text(\"Can you see this clearly?\", 23))"
   ]
  },
  {
   "cell_type": "code",
   "execution_count": null,
   "metadata": {
    "collapsed": true
   },
   "outputs": [],
   "source": [
    "# this should look the same\n",
    "ia.show_image(render_text(\"Can\\tyou\\nsee\\xf5this\\x00clearly?\", 23))"
   ]
  },
  {
   "cell_type": "code",
   "execution_count": null,
   "metadata": {
    "collapsed": true
   },
   "outputs": [],
   "source": [
    "ia.show_image(render_text(\"Data Fundamentals (H)\", 1))"
   ]
  },
  {
   "cell_type": "code",
   "execution_count": null,
   "metadata": {
    "collapsed": true,
    "deletable": false,
    "editable": false,
    "nbgrader": {
     "cell_type": "code",
     "checksum": "cd7c85ff2112f9c40e3453be6ca2906a",
     "grade": false,
     "grade_id": "cell-3a50d2f27fc709fc",
     "locked": true,
     "schema_version": 3,
     "solution": false
    }
   },
   "outputs": [],
   "source": [
    "with tick.marks(0):\n",
    "    assert(check_hash(render_text(\"Test 1\", 1), ((64, 384), 269160963.20571893)))"
   ]
  },
  {
   "cell_type": "code",
   "execution_count": null,
   "metadata": {
    "collapsed": true,
    "deletable": false,
    "editable": false,
    "nbgrader": {
     "cell_type": "code",
     "checksum": "90069727e76fbd2d1681a53b679637c9",
     "grade": false,
     "grade_id": "cell-12523efdd62618b3",
     "locked": true,
     "schema_version": 3,
     "solution": false
    }
   },
   "outputs": [],
   "source": [
    "with tick.marks(0):\n",
    "    assert(check_hash(render_text(\"Test 2\", 2),((64, 384), 282670129.18082076)))"
   ]
  },
  {
   "cell_type": "code",
   "execution_count": null,
   "metadata": {
    "collapsed": true,
    "deletable": false,
    "editable": false,
    "nbgrader": {
     "cell_type": "code",
     "checksum": "0f256dff3b69cc6471a0e2b37ed18274",
     "grade": false,
     "grade_id": "cell-74c0a0336db2f47e",
     "locked": true,
     "schema_version": 3,
     "solution": false
    }
   },
   "outputs": [],
   "source": [
    "with tick.marks(0):\n",
    "    assert(check_hash(render_text(\"Test\\n3\", 3), ((64, 384), 283057779.18977338)))"
   ]
  },
  {
   "cell_type": "code",
   "execution_count": null,
   "metadata": {
    "collapsed": true,
    "deletable": false,
    "editable": false,
    "nbgrader": {
     "cell_type": "code",
     "checksum": "0dcb26ffd9be4b62a4bf0de217339c89",
     "grade": false,
     "grade_id": "cell-0fd9508a61e6950e",
     "locked": true,
     "schema_version": 3,
     "solution": false
    }
   },
   "outputs": [],
   "source": [
    "with tick.marks(0):\n",
    "    assert(check_hash(render_text(\"\\n\\tTest\\x00\\xff4\", 4), ((64, 576), 657469474.43368447)))"
   ]
  },
  {
   "cell_type": "markdown",
   "metadata": {},
   "source": [
    "-----\n",
    "\n",
    "# Submission instructions"
   ]
  },
  {
   "cell_type": "markdown",
   "metadata": {},
   "source": [
    "## Mark summary\n",
    "You should check the marks you've got before submitting. To do this, \n",
    "* Make sure you fill in any place that says `YOUR CODE HERE` or `\"YOUR ANSWER HERE\"`.\n",
    "* SAVE THE NOTEBOOK, \n",
    "* Go to `Cell/Restart and Run All` in the menu.\n",
    "* Check the output of the cell here.\n",
    "\n",
    "Note that this is an estimated mark, and if you don't do the above procedure *carefully* you may get nonsense estimates.\n"
   ]
  },
  {
   "cell_type": "code",
   "execution_count": 34,
   "metadata": {},
   "outputs": [
    {
     "data": {
      "text/html": [
       "<!--{id:\"TOTALMARK\",marks:\"21\", available:\"21\"}  -->\n",
       "        \n",
       "        <h1> 21 / 21 marks (100.0%) </h1>\n",
       "        "
      ],
      "text/plain": [
       "<IPython.core.display.HTML object>"
      ]
     },
     "metadata": {},
     "output_type": "display_data"
    }
   ],
   "source": [
    "tick.summarise_marks()"
   ]
  },
  {
   "cell_type": "markdown",
   "metadata": {},
   "source": [
    "<div class=\"alert alert-block alert-danger\">\n",
    "    \n",
    "### Formatting the submission\n",
    "* **WARNING**: If you do not submit the correct file, you will not get any marks.\n",
    "* Submit this file **only** on Moodle. It will be named `week_<xxx>.ipynb`.\n",
    "\n",
    "</div>"
   ]
  },
  {
   "cell_type": "markdown",
   "metadata": {},
   "source": [
    "\n",
    "## Penalties (only for assessed labs)\n",
    "<font color=\"red\">\n",
    "    \n",
    "**Malformatted submissions**\n",
    "</font>\n",
    "These assignments are processed with an automatic tool; failure to follow instructions *precisely* will lead to you automatically losing two bands in grade regardless of whether the work is correct (not to mention a long delay in getting your work back). **If you submit a file without your work in it, it will be marked and you will get 0 marks.**\n",
    "\n",
    "<font color=\"red\">**Late submission**</font>\n",
    "Be aware that there is a two band penalty for every *day* of late submission, starting the moment of the deadline.\n",
    "\n",
    "<font color=\"red\">\n",
    "    \n",
    "**Plagiarism**\n",
    "</font> Any form of plagiarism will be subject to the Plagiarism Policy. The penalties are severe."
   ]
  }
 ],
 "metadata": {
  "kernelspec": {
   "display_name": "Python 3",
   "language": "python",
   "name": "python3"
  },
  "language_info": {
   "codemirror_mode": {
    "name": "ipython",
    "version": 3
   },
   "file_extension": ".py",
   "mimetype": "text/x-python",
   "name": "python",
   "nbconvert_exporter": "python",
   "pygments_lexer": "ipython3",
   "version": "3.6.10"
  },
  "toc": {
   "nav_menu": {},
   "number_sections": true,
   "sideBar": true,
   "skip_h1_title": false,
   "toc_cell": false,
   "toc_position": {},
   "toc_section_display": "block",
   "toc_window_display": false
  },
  "varInspector": {
   "cols": {
    "lenName": 16,
    "lenType": 16,
    "lenVar": 40
   },
   "kernels_config": {
    "python": {
     "delete_cmd_postfix": "",
     "delete_cmd_prefix": "del ",
     "library": "var_list.py",
     "varRefreshCmd": "print(var_dic_list())"
    },
    "r": {
     "delete_cmd_postfix": ") ",
     "delete_cmd_prefix": "rm(",
     "library": "var_list.r",
     "varRefreshCmd": "cat(var_dic_list()) "
    }
   },
   "types_to_exclude": [
    "module",
    "function",
    "builtin_function_or_method",
    "instance",
    "_Feature"
   ],
   "window_display": false
  }
 },
 "nbformat": 4,
 "nbformat_minor": 1
}
